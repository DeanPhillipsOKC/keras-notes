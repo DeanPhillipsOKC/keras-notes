{
  "nbformat": 4,
  "nbformat_minor": 0,
  "metadata": {
    "colab": {
      "name": "Keras Syntax Basics.ipynb",
      "provenance": [],
      "authorship_tag": "ABX9TyOh6r3EBEYs0EpXhQuvreuN",
      "include_colab_link": true
    },
    "kernelspec": {
      "name": "python3",
      "display_name": "Python 3"
    }
  },
  "cells": [
    {
      "cell_type": "markdown",
      "metadata": {
        "id": "view-in-github",
        "colab_type": "text"
      },
      "source": [
        "<a href=\"https://colab.research.google.com/github/DeanPhillipsOKC/keras-notes/blob/master/Keras_Syntax_Basics.ipynb\" target=\"_parent\"><img src=\"https://colab.research.google.com/assets/colab-badge.svg\" alt=\"Open In Colab\"/></a>"
      ]
    },
    {
      "cell_type": "code",
      "metadata": {
        "id": "RHii0-Vzwnay",
        "colab_type": "code",
        "colab": {}
      },
      "source": [
        "import numpy as np\n",
        "import pandas as pd\n",
        "import seaborn as sns"
      ],
      "execution_count": 0,
      "outputs": []
    },
    {
      "cell_type": "markdown",
      "metadata": {
        "id": "U8NCghKIwwpB",
        "colab_type": "text"
      },
      "source": [
        "# Keras Syntax Basics"
      ]
    },
    {
      "cell_type": "markdown",
      "metadata": {
        "id": "ozHv3Wdt4Odz",
        "colab_type": "text"
      },
      "source": [
        "## Preparing the Data"
      ]
    },
    {
      "cell_type": "markdown",
      "metadata": {
        "id": "i11GfB6b2uMo",
        "colab_type": "text"
      },
      "source": [
        "### Read in the Source Data"
      ]
    },
    {
      "cell_type": "code",
      "metadata": {
        "id": "uo1UsGtBxnW0",
        "colab_type": "code",
        "colab": {}
      },
      "source": [
        "df = pd.read_csv('https://raw.githubusercontent.com/DeanPhillipsOKC/machine-learning-samle-data/master/fake_reg.csv')"
      ],
      "execution_count": 0,
      "outputs": []
    },
    {
      "cell_type": "code",
      "metadata": {
        "id": "Lp91oMVvxrze",
        "colab_type": "code",
        "outputId": "bf146853-6437-4ef6-97d7-1f70c9bf78a9",
        "colab": {
          "base_uri": "https://localhost:8080/",
          "height": 204
        }
      },
      "source": [
        "df.head()"
      ],
      "execution_count": 96,
      "outputs": [
        {
          "output_type": "execute_result",
          "data": {
            "text/html": [
              "<div>\n",
              "<style scoped>\n",
              "    .dataframe tbody tr th:only-of-type {\n",
              "        vertical-align: middle;\n",
              "    }\n",
              "\n",
              "    .dataframe tbody tr th {\n",
              "        vertical-align: top;\n",
              "    }\n",
              "\n",
              "    .dataframe thead th {\n",
              "        text-align: right;\n",
              "    }\n",
              "</style>\n",
              "<table border=\"1\" class=\"dataframe\">\n",
              "  <thead>\n",
              "    <tr style=\"text-align: right;\">\n",
              "      <th></th>\n",
              "      <th>price</th>\n",
              "      <th>feature1</th>\n",
              "      <th>feature2</th>\n",
              "    </tr>\n",
              "  </thead>\n",
              "  <tbody>\n",
              "    <tr>\n",
              "      <th>0</th>\n",
              "      <td>461.527929</td>\n",
              "      <td>999.787558</td>\n",
              "      <td>999.766096</td>\n",
              "    </tr>\n",
              "    <tr>\n",
              "      <th>1</th>\n",
              "      <td>548.130011</td>\n",
              "      <td>998.861615</td>\n",
              "      <td>1001.042403</td>\n",
              "    </tr>\n",
              "    <tr>\n",
              "      <th>2</th>\n",
              "      <td>410.297162</td>\n",
              "      <td>1000.070267</td>\n",
              "      <td>998.844015</td>\n",
              "    </tr>\n",
              "    <tr>\n",
              "      <th>3</th>\n",
              "      <td>540.382220</td>\n",
              "      <td>999.952251</td>\n",
              "      <td>1000.440940</td>\n",
              "    </tr>\n",
              "    <tr>\n",
              "      <th>4</th>\n",
              "      <td>546.024553</td>\n",
              "      <td>1000.446011</td>\n",
              "      <td>1000.338531</td>\n",
              "    </tr>\n",
              "  </tbody>\n",
              "</table>\n",
              "</div>"
            ],
            "text/plain": [
              "        price     feature1     feature2\n",
              "0  461.527929   999.787558   999.766096\n",
              "1  548.130011   998.861615  1001.042403\n",
              "2  410.297162  1000.070267   998.844015\n",
              "3  540.382220   999.952251  1000.440940\n",
              "4  546.024553  1000.446011  1000.338531"
            ]
          },
          "metadata": {
            "tags": []
          },
          "execution_count": 96
        }
      ]
    },
    {
      "cell_type": "markdown",
      "metadata": {
        "id": "Fr6Vb1Zq2yY7",
        "colab_type": "text"
      },
      "source": [
        "### Peform some quick analysis of the data\n",
        "\n",
        "* Since it's a small data set, I've used a pair plot\n",
        "* Note the high correlation between feature 2 and price"
      ]
    },
    {
      "cell_type": "code",
      "metadata": {
        "id": "4wuyfxq-xsym",
        "colab_type": "code",
        "outputId": "8577c75d-0db1-4941-fc73-1c46f4a6d408",
        "colab": {
          "base_uri": "https://localhost:8080/",
          "height": 563
        }
      },
      "source": [
        "sns.pairplot(df)"
      ],
      "execution_count": 97,
      "outputs": [
        {
          "output_type": "execute_result",
          "data": {
            "text/plain": [
              "<seaborn.axisgrid.PairGrid at 0x7f53acc1b080>"
            ]
          },
          "metadata": {
            "tags": []
          },
          "execution_count": 97
        },
        {
          "output_type": "display_data",
          "data": {
            "image/png": "[encoded data removed]",
            "text/plain": [
              "<Figure size 540x540 with 12 Axes>"
            ]
          },
          "metadata": {
            "tags": []
          }
        }
      ]
    },
    {
      "cell_type": "markdown",
      "metadata": {
        "id": "v_ICPU5i3DR2",
        "colab_type": "text"
      },
      "source": [
        "### Train the model using scikit learn's train_test_split"
      ]
    },
    {
      "cell_type": "code",
      "metadata": {
        "id": "RB2lHyvxyCsW",
        "colab_type": "code",
        "colab": {}
      },
      "source": [
        "from sklearn.model_selection import train_test_split"
      ],
      "execution_count": 0,
      "outputs": []
    },
    {
      "cell_type": "markdown",
      "metadata": {
        "id": "Xj71aWOXyyQM",
        "colab_type": "text"
      },
      "source": [
        "Since tensorflow requires numpy arrays instead of pandas data frames, we need to use the .values.\n",
        "\n",
        "Since X is a two dimensional array, we use a capital by convension"
      ]
    },
    {
      "cell_type": "code",
      "metadata": {
        "id": "y-4VDSMpyaPg",
        "colab_type": "code",
        "colab": {}
      },
      "source": [
        "X = df[['feature1', 'feature2']].values"
      ],
      "execution_count": 0,
      "outputs": []
    },
    {
      "cell_type": "code",
      "metadata": {
        "id": "02-EdxCxyuXG",
        "colab_type": "code",
        "colab": {}
      },
      "source": [
        "y = df['price'].values"
      ],
      "execution_count": 0,
      "outputs": []
    },
    {
      "cell_type": "markdown",
      "metadata": {
        "id": "-TpIRJCPzyuF",
        "colab_type": "text"
      },
      "source": [
        "test_size represents the size of our randomized data.  In this case it will be 30% of the total source data size.\n",
        "\n",
        "random_state is similar to a seed.  It is an arbitrary number, but specifying it will ensure that you always get the same random data."
      ]
    },
    {
      "cell_type": "code",
      "metadata": {
        "id": "0Wu4Trfzyw4H",
        "colab_type": "code",
        "colab": {}
      },
      "source": [
        "X_train, X_test, y_train, y_test = train_test_split(X, y, test_size=0.3, random_state=42)"
      ],
      "execution_count": 0,
      "outputs": []
    },
    {
      "cell_type": "code",
      "metadata": {
        "id": "yhVE6KW8zxau",
        "colab_type": "code",
        "outputId": "b0911233-cbcc-40ea-e444-f62dd45e6c52",
        "colab": {
          "base_uri": "https://localhost:8080/",
          "height": 34
        }
      },
      "source": [
        "X_train.shape"
      ],
      "execution_count": 102,
      "outputs": [
        {
          "output_type": "execute_result",
          "data": {
            "text/plain": [
              "(700, 2)"
            ]
          },
          "metadata": {
            "tags": []
          },
          "execution_count": 102
        }
      ]
    },
    {
      "cell_type": "code",
      "metadata": {
        "id": "4glQVNLp0Nwv",
        "colab_type": "code",
        "outputId": "8661bfc6-31f3-4858-c5be-3f74dc95b50b",
        "colab": {
          "base_uri": "https://localhost:8080/",
          "height": 34
        }
      },
      "source": [
        "X_test.shape"
      ],
      "execution_count": 103,
      "outputs": [
        {
          "output_type": "execute_result",
          "data": {
            "text/plain": [
              "(300, 2)"
            ]
          },
          "metadata": {
            "tags": []
          },
          "execution_count": 103
        }
      ]
    },
    {
      "cell_type": "code",
      "metadata": {
        "id": "KlWY1jq70O-G",
        "colab_type": "code",
        "colab": {}
      },
      "source": [
        "from sklearn.preprocessing import MinMaxScaler"
      ],
      "execution_count": 0,
      "outputs": []
    },
    {
      "cell_type": "code",
      "metadata": {
        "id": "gIzpX--m0dDv",
        "colab_type": "code",
        "outputId": "4b86ec79-d30f-4118-e02e-98107b9e8562",
        "colab": {
          "base_uri": "https://localhost:8080/",
          "height": 1000
        }
      },
      "source": [
        "help(MinMaxScaler)"
      ],
      "execution_count": 105,
      "outputs": [
        {
          "output_type": "stream",
          "text": [
            "Help on class MinMaxScaler in module sklearn.preprocessing._data:\n",
            "\n",
            "class MinMaxScaler(sklearn.base.TransformerMixin, sklearn.base.BaseEstimator)\n",
            " |  Transform features by scaling each feature to a given range.\n",
            " |  \n",
            " |  This estimator scales and translates each feature individually such\n",
            " |  that it is in the given range on the training set, e.g. between\n",
            " |  zero and one.\n",
            " |  \n",
            " |  The transformation is given by::\n",
            " |  \n",
            " |      X_std = (X - X.min(axis=0)) / (X.max(axis=0) - X.min(axis=0))\n",
            " |      X_scaled = X_std * (max - min) + min\n",
            " |  \n",
            " |  where min, max = feature_range.\n",
            " |  \n",
            " |  The transformation is calculated as::\n",
            " |  \n",
            " |      X_scaled = scale * X + min - X.min(axis=0) * scale\n",
            " |      where scale = (max - min) / (X.max(axis=0) - X.min(axis=0))\n",
            " |  \n",
            " |  This transformation is often used as an alternative to zero mean,\n",
            " |  unit variance scaling.\n",
            " |  \n",
            " |  Read more in the :ref:`User Guide <preprocessing_scaler>`.\n",
            " |  \n",
            " |  Parameters\n",
            " |  ----------\n",
            " |  feature_range : tuple (min, max), default=(0, 1)\n",
            " |      Desired range of transformed data.\n",
            " |  \n",
            " |  copy : bool, default=True\n",
            " |      Set to False to perform inplace row normalization and avoid a\n",
            " |      copy (if the input is already a numpy array).\n",
            " |  \n",
            " |  Attributes\n",
            " |  ----------\n",
            " |  min_ : ndarray of shape (n_features,)\n",
            " |      Per feature adjustment for minimum. Equivalent to\n",
            " |      ``min - X.min(axis=0) * self.scale_``\n",
            " |  \n",
            " |  scale_ : ndarray of shape (n_features,)\n",
            " |      Per feature relative scaling of the data. Equivalent to\n",
            " |      ``(max - min) / (X.max(axis=0) - X.min(axis=0))``\n",
            " |  \n",
            " |      .. versionadded:: 0.17\n",
            " |         *scale_* attribute.\n",
            " |  \n",
            " |  data_min_ : ndarray of shape (n_features,)\n",
            " |      Per feature minimum seen in the data\n",
            " |  \n",
            " |      .. versionadded:: 0.17\n",
            " |         *data_min_*\n",
            " |  \n",
            " |  data_max_ : ndarray of shape (n_features,)\n",
            " |      Per feature maximum seen in the data\n",
            " |  \n",
            " |      .. versionadded:: 0.17\n",
            " |         *data_max_*\n",
            " |  \n",
            " |  data_range_ : ndarray of shape (n_features,)\n",
            " |      Per feature range ``(data_max_ - data_min_)`` seen in the data\n",
            " |  \n",
            " |      .. versionadded:: 0.17\n",
            " |         *data_range_*\n",
            " |  \n",
            " |  n_samples_seen_ : int\n",
            " |      The number of samples processed by the estimator.\n",
            " |      It will be reset on new calls to fit, but increments across\n",
            " |      ``partial_fit`` calls.\n",
            " |  \n",
            " |  Examples\n",
            " |  --------\n",
            " |  >>> from sklearn.preprocessing import MinMaxScaler\n",
            " |  >>> data = [[-1, 2], [-0.5, 6], [0, 10], [1, 18]]\n",
            " |  >>> scaler = MinMaxScaler()\n",
            " |  >>> print(scaler.fit(data))\n",
            " |  MinMaxScaler()\n",
            " |  >>> print(scaler.data_max_)\n",
            " |  [ 1. 18.]\n",
            " |  >>> print(scaler.transform(data))\n",
            " |  [[0.   0.  ]\n",
            " |   [0.25 0.25]\n",
            " |   [0.5  0.5 ]\n",
            " |   [1.   1.  ]]\n",
            " |  >>> print(scaler.transform([[2, 2]]))\n",
            " |  [[1.5 0. ]]\n",
            " |  \n",
            " |  See also\n",
            " |  --------\n",
            " |  minmax_scale: Equivalent function without the estimator API.\n",
            " |  \n",
            " |  Notes\n",
            " |  -----\n",
            " |  NaNs are treated as missing values: disregarded in fit, and maintained in\n",
            " |  transform.\n",
            " |  \n",
            " |  For a comparison of the different scalers, transformers, and normalizers,\n",
            " |  see :ref:`examples/preprocessing/plot_all_scaling.py\n",
            " |  <sphx_glr_auto_examples_preprocessing_plot_all_scaling.py>`.\n",
            " |  \n",
            " |  Method resolution order:\n",
            " |      MinMaxScaler\n",
            " |      sklearn.base.TransformerMixin\n",
            " |      sklearn.base.BaseEstimator\n",
            " |      builtins.object\n",
            " |  \n",
            " |  Methods defined here:\n",
            " |  \n",
            " |  __init__(self, feature_range=(0, 1), copy=True)\n",
            " |      Initialize self.  See help(type(self)) for accurate signature.\n",
            " |  \n",
            " |  fit(self, X, y=None)\n",
            " |      Compute the minimum and maximum to be used for later scaling.\n",
            " |      \n",
            " |      Parameters\n",
            " |      ----------\n",
            " |      X : array-like of shape (n_samples, n_features)\n",
            " |          The data used to compute the per-feature minimum and maximum\n",
            " |          used for later scaling along the features axis.\n",
            " |      \n",
            " |      y : None\n",
            " |          Ignored.\n",
            " |      \n",
            " |      Returns\n",
            " |      -------\n",
            " |      self : object\n",
            " |          Fitted scaler.\n",
            " |  \n",
            " |  inverse_transform(self, X)\n",
            " |      Undo the scaling of X according to feature_range.\n",
            " |      \n",
            " |      Parameters\n",
            " |      ----------\n",
            " |      X : array-like of shape (n_samples, n_features)\n",
            " |          Input data that will be transformed. It cannot be sparse.\n",
            " |      \n",
            " |      Returns\n",
            " |      -------\n",
            " |      Xt : array-like of shape (n_samples, n_features)\n",
            " |          Transformed data.\n",
            " |  \n",
            " |  partial_fit(self, X, y=None)\n",
            " |      Online computation of min and max on X for later scaling.\n",
            " |      \n",
            " |      All of X is processed as a single batch. This is intended for cases\n",
            " |      when :meth:`fit` is not feasible due to very large number of\n",
            " |      `n_samples` or because X is read from a continuous stream.\n",
            " |      \n",
            " |      Parameters\n",
            " |      ----------\n",
            " |      X : array-like of shape (n_samples, n_features)\n",
            " |          The data used to compute the mean and standard deviation\n",
            " |          used for later scaling along the features axis.\n",
            " |      \n",
            " |      y : None\n",
            " |          Ignored.\n",
            " |      \n",
            " |      Returns\n",
            " |      -------\n",
            " |      self : object\n",
            " |          Transformer instance.\n",
            " |  \n",
            " |  transform(self, X)\n",
            " |      Scale features of X according to feature_range.\n",
            " |      \n",
            " |      Parameters\n",
            " |      ----------\n",
            " |      X : array-like of shape (n_samples, n_features)\n",
            " |          Input data that will be transformed.\n",
            " |      \n",
            " |      Returns\n",
            " |      -------\n",
            " |      Xt : array-like of shape (n_samples, n_features)\n",
            " |          Transformed data.\n",
            " |  \n",
            " |  ----------------------------------------------------------------------\n",
            " |  Methods inherited from sklearn.base.TransformerMixin:\n",
            " |  \n",
            " |  fit_transform(self, X, y=None, **fit_params)\n",
            " |      Fit to data, then transform it.\n",
            " |      \n",
            " |      Fits transformer to X and y with optional parameters fit_params\n",
            " |      and returns a transformed version of X.\n",
            " |      \n",
            " |      Parameters\n",
            " |      ----------\n",
            " |      X : numpy array of shape [n_samples, n_features]\n",
            " |          Training set.\n",
            " |      \n",
            " |      y : numpy array of shape [n_samples]\n",
            " |          Target values.\n",
            " |      \n",
            " |      **fit_params : dict\n",
            " |          Additional fit parameters.\n",
            " |      \n",
            " |      Returns\n",
            " |      -------\n",
            " |      X_new : numpy array of shape [n_samples, n_features_new]\n",
            " |          Transformed array.\n",
            " |  \n",
            " |  ----------------------------------------------------------------------\n",
            " |  Data descriptors inherited from sklearn.base.TransformerMixin:\n",
            " |  \n",
            " |  __dict__\n",
            " |      dictionary for instance variables (if defined)\n",
            " |  \n",
            " |  __weakref__\n",
            " |      list of weak references to the object (if defined)\n",
            " |  \n",
            " |  ----------------------------------------------------------------------\n",
            " |  Methods inherited from sklearn.base.BaseEstimator:\n",
            " |  \n",
            " |  __getstate__(self)\n",
            " |  \n",
            " |  __repr__(self, N_CHAR_MAX=700)\n",
            " |      Return repr(self).\n",
            " |  \n",
            " |  __setstate__(self, state)\n",
            " |  \n",
            " |  get_params(self, deep=True)\n",
            " |      Get parameters for this estimator.\n",
            " |      \n",
            " |      Parameters\n",
            " |      ----------\n",
            " |      deep : bool, default=True\n",
            " |          If True, will return the parameters for this estimator and\n",
            " |          contained subobjects that are estimators.\n",
            " |      \n",
            " |      Returns\n",
            " |      -------\n",
            " |      params : mapping of string to any\n",
            " |          Parameter names mapped to their values.\n",
            " |  \n",
            " |  set_params(self, **params)\n",
            " |      Set the parameters of this estimator.\n",
            " |      \n",
            " |      The method works on simple estimators as well as on nested objects\n",
            " |      (such as pipelines). The latter have parameters of the form\n",
            " |      ``<component>__<parameter>`` so that it's possible to update each\n",
            " |      component of a nested object.\n",
            " |      \n",
            " |      Parameters\n",
            " |      ----------\n",
            " |      **params : dict\n",
            " |          Estimator parameters.\n",
            " |      \n",
            " |      Returns\n",
            " |      -------\n",
            " |      self : object\n",
            " |          Estimator instance.\n",
            "\n"
          ],
          "name": "stdout"
        }
      ]
    },
    {
      "cell_type": "code",
      "metadata": {
        "id": "9E6cWvDt0ezl",
        "colab_type": "code",
        "colab": {}
      },
      "source": [
        "scaler = MinMaxScaler()"
      ],
      "execution_count": 0,
      "outputs": []
    },
    {
      "cell_type": "markdown",
      "metadata": {
        "id": "wEhqQfG71IcF",
        "colab_type": "text"
      },
      "source": [
        "Compute the min, max, and stddev values so that the transformation has the data it needs to do its thing\n",
        "\n",
        "We will NOT fit the test data set because that would essentially cheat by ascertaning information about the test data set."
      ]
    },
    {
      "cell_type": "code",
      "metadata": {
        "id": "AR72E2Jv0rj-",
        "colab_type": "code",
        "outputId": "325f2176-e5bf-4d58-d0ec-89c2e132f09c",
        "colab": {
          "base_uri": "https://localhost:8080/",
          "height": 34
        }
      },
      "source": [
        "scaler.fit(X_train)"
      ],
      "execution_count": 107,
      "outputs": [
        {
          "output_type": "execute_result",
          "data": {
            "text/plain": [
              "MinMaxScaler(copy=True, feature_range=(0, 1))"
            ]
          },
          "metadata": {
            "tags": []
          },
          "execution_count": 107
        }
      ]
    },
    {
      "cell_type": "markdown",
      "metadata": {
        "id": "D9KFZRiT1QVs",
        "colab_type": "text"
      },
      "source": [
        "Perform the transformation of the training data.\n"
      ]
    },
    {
      "cell_type": "code",
      "metadata": {
        "id": "krIJc-7h0u4f",
        "colab_type": "code",
        "colab": {}
      },
      "source": [
        "X_train = scaler.transform(X_train)"
      ],
      "execution_count": 0,
      "outputs": []
    },
    {
      "cell_type": "code",
      "metadata": {
        "id": "VLOasERT1GaV",
        "colab_type": "code",
        "colab": {}
      },
      "source": [
        "X_test = scaler.transform(X_test)"
      ],
      "execution_count": 0,
      "outputs": []
    },
    {
      "cell_type": "code",
      "metadata": {
        "id": "yFTZUt2Q1Xin",
        "colab_type": "code",
        "outputId": "430695af-8516-4721-8b3e-a4b6db2d21c6",
        "colab": {
          "base_uri": "https://localhost:8080/",
          "height": 34
        }
      },
      "source": [
        "X_train.max()"
      ],
      "execution_count": 110,
      "outputs": [
        {
          "output_type": "execute_result",
          "data": {
            "text/plain": [
              "1.0"
            ]
          },
          "metadata": {
            "tags": []
          },
          "execution_count": 110
        }
      ]
    },
    {
      "cell_type": "code",
      "metadata": {
        "id": "fw82VAFt1aWW",
        "colab_type": "code",
        "outputId": "6bc61ad5-e3ae-4676-93ea-f4915a163c01",
        "colab": {
          "base_uri": "https://localhost:8080/",
          "height": 34
        }
      },
      "source": [
        "X_train.min()"
      ],
      "execution_count": 111,
      "outputs": [
        {
          "output_type": "execute_result",
          "data": {
            "text/plain": [
              "0.0"
            ]
          },
          "metadata": {
            "tags": []
          },
          "execution_count": 111
        }
      ]
    },
    {
      "cell_type": "code",
      "metadata": {
        "id": "u6zLXxhp1beI",
        "colab_type": "code",
        "outputId": "57006254-b921-4703-b060-e9f1f9df3c7d",
        "colab": {
          "base_uri": "https://localhost:8080/",
          "height": 34
        }
      },
      "source": [
        "X_test.max()"
      ],
      "execution_count": 112,
      "outputs": [
        {
          "output_type": "execute_result",
          "data": {
            "text/plain": [
              "1.0186515935232023"
            ]
          },
          "metadata": {
            "tags": []
          },
          "execution_count": 112
        }
      ]
    },
    {
      "cell_type": "code",
      "metadata": {
        "id": "nrSOJ0K71jFf",
        "colab_type": "code",
        "outputId": "ca18c8f9-b757-4701-b361-7ed73a4c38e5",
        "colab": {
          "base_uri": "https://localhost:8080/",
          "height": 34
        }
      },
      "source": [
        "X_test.min()"
      ],
      "execution_count": 113,
      "outputs": [
        {
          "output_type": "execute_result",
          "data": {
            "text/plain": [
              "-0.014108392024496652"
            ]
          },
          "metadata": {
            "tags": []
          },
          "execution_count": 113
        }
      ]
    },
    {
      "cell_type": "code",
      "metadata": {
        "id": "ktv-Wjdq1p4Q",
        "colab_type": "code",
        "colab": {}
      },
      "source": [
        ""
      ],
      "execution_count": 0,
      "outputs": []
    },
    {
      "cell_type": "markdown",
      "metadata": {
        "id": "DuMIBNXo4YI6",
        "colab_type": "text"
      },
      "source": [
        "## Creating and Training the Model"
      ]
    },
    {
      "cell_type": "code",
      "metadata": {
        "id": "ulgoGPiQ4bRL",
        "colab_type": "code",
        "colab": {}
      },
      "source": [
        "from tensorflow.keras.models import Sequential\n",
        "from tensorflow.keras.layers import Dense"
      ],
      "execution_count": 0,
      "outputs": []
    },
    {
      "cell_type": "markdown",
      "metadata": {
        "id": "g1uArFKG6D7D",
        "colab_type": "text"
      },
      "source": [
        "### Build the NN model\n",
        "\n",
        "* Consists of three layers\n",
        "* Layers 1-3 consist of 4 densely connected neurons with a rectified linear unit activation function\n",
        "* The final layer consists of a single neuron with no activation function"
      ]
    },
    {
      "cell_type": "code",
      "metadata": {
        "id": "CfU9PxUG4noh",
        "colab_type": "code",
        "colab": {}
      },
      "source": [
        "model = Sequential()\n",
        "\n",
        "model.add(Dense(4, activation='relu'))\n",
        "model.add(Dense(4, activation='relu'))\n",
        "model.add(Dense(4, activation='relu'))\n",
        "model.add(Dense(1))"
      ],
      "execution_count": 0,
      "outputs": []
    },
    {
      "cell_type": "markdown",
      "metadata": {
        "id": "iRGIn1KR7ToM",
        "colab_type": "text"
      },
      "source": [
        "### Compile the NN model\n",
        "\n",
        "The values for optimizer and loss function were chosen because of the kind of problem that our NN is trying to solve.  Since it's a regression problem with a continuous y value, we want to use mean square error"
      ]
    },
    {
      "cell_type": "code",
      "metadata": {
        "id": "OQplI2ML4p8G",
        "colab_type": "code",
        "colab": {}
      },
      "source": [
        "model.compile(optimizer='rmsprop', loss='mse')"
      ],
      "execution_count": 0,
      "outputs": []
    },
    {
      "cell_type": "markdown",
      "metadata": {
        "id": "Kfh8RwsN8ve2",
        "colab_type": "text"
      },
      "source": [
        "### Fitting the model\n",
        "We pass in our training data, and for now pick an arbitrary number for epochs\n",
        "\n",
        "Epochs represent the number of times that we go through our training data set completely."
      ]
    },
    {
      "cell_type": "code",
      "metadata": {
        "id": "3MO3nCTj7bMX",
        "colab_type": "code",
        "colab": {
          "base_uri": "https://localhost:8080/",
          "height": 1000
        },
        "outputId": "2a197171-41e6-4bae-b0aa-978a4b1df01b"
      },
      "source": [
        "model.fit(X_train, y_train, epochs=250, verbose=1)"
      ],
      "execution_count": 117,
      "outputs": [
        {
          "output_type": "stream",
          "text": [
            "Train on 700 samples\n",
            "Epoch 1/250\n",
            "700/700 [==============================] - 0s 319us/sample - loss: 256698.0108\n",
            "Epoch 2/250\n",
            "700/700 [==============================] - 0s 43us/sample - loss: 256647.6075\n",
            "Epoch 3/250\n",
            "700/700 [==============================] - 0s 40us/sample - loss: 256592.7770\n",
            "Epoch 4/250\n",
            "700/700 [==============================] - 0s 42us/sample - loss: 256529.4350\n",
            "Epoch 5/250\n",
            "700/700 [==============================] - 0s 50us/sample - loss: 256457.2223\n",
            "Epoch 6/250\n",
            "700/700 [==============================] - 0s 61us/sample - loss: 256375.4816\n",
            "Epoch 7/250\n",
            "700/700 [==============================] - 0s 47us/sample - loss: 256283.6129\n",
            "Epoch 8/250\n",
            "700/700 [==============================] - 0s 42us/sample - loss: 256180.9802\n",
            "Epoch 9/250\n",
            "700/700 [==============================] - 0s 51us/sample - loss: 256066.4755\n",
            "Epoch 10/250\n",
            "700/700 [==============================] - 0s 48us/sample - loss: 255939.6231\n",
            "Epoch 11/250\n",
            "700/700 [==============================] - 0s 41us/sample - loss: 255799.7507\n",
            "Epoch 12/250\n",
            "700/700 [==============================] - 0s 38us/sample - loss: 255645.8427\n",
            "Epoch 13/250\n",
            "700/700 [==============================] - 0s 44us/sample - loss: 255477.2575\n",
            "Epoch 14/250\n",
            "700/700 [==============================] - 0s 56us/sample - loss: 255292.9500\n",
            "Epoch 15/250\n",
            "700/700 [==============================] - 0s 44us/sample - loss: 255092.4413\n",
            "Epoch 16/250\n",
            "700/700 [==============================] - 0s 44us/sample - loss: 254874.8718\n",
            "Epoch 17/250\n",
            "700/700 [==============================] - 0s 49us/sample - loss: 254638.3210\n",
            "Epoch 18/250\n",
            "700/700 [==============================] - 0s 46us/sample - loss: 254382.8443\n",
            "Epoch 19/250\n",
            "700/700 [==============================] - 0s 50us/sample - loss: 254107.1516\n",
            "Epoch 20/250\n",
            "700/700 [==============================] - 0s 52us/sample - loss: 253811.0653\n",
            "Epoch 21/250\n",
            "700/700 [==============================] - 0s 44us/sample - loss: 253491.3817\n",
            "Epoch 22/250\n",
            "700/700 [==============================] - 0s 46us/sample - loss: 253149.1011\n",
            "Epoch 23/250\n",
            "700/700 [==============================] - 0s 50us/sample - loss: 252782.7178\n",
            "Epoch 24/250\n",
            "700/700 [==============================] - 0s 45us/sample - loss: 252392.2864\n",
            "Epoch 25/250\n",
            "700/700 [==============================] - 0s 43us/sample - loss: 251974.9963\n",
            "Epoch 26/250\n",
            "700/700 [==============================] - 0s 56us/sample - loss: 251530.3458\n",
            "Epoch 27/250\n",
            "700/700 [==============================] - 0s 49us/sample - loss: 251055.6490\n",
            "Epoch 28/250\n",
            "700/700 [==============================] - 0s 48us/sample - loss: 250553.5942\n",
            "Epoch 29/250\n",
            "700/700 [==============================] - 0s 48us/sample - loss: 250017.1482\n",
            "Epoch 30/250\n",
            "700/700 [==============================] - 0s 47us/sample - loss: 249453.1207\n",
            "Epoch 31/250\n",
            "700/700 [==============================] - 0s 46us/sample - loss: 248855.3855\n",
            "Epoch 32/250\n",
            "700/700 [==============================] - 0s 47us/sample - loss: 248219.8129\n",
            "Epoch 33/250\n",
            "700/700 [==============================] - 0s 47us/sample - loss: 247554.9504\n",
            "Epoch 34/250\n",
            "700/700 [==============================] - 0s 49us/sample - loss: 246850.4613\n",
            "Epoch 35/250\n",
            "700/700 [==============================] - 0s 43us/sample - loss: 246107.8271\n",
            "Epoch 36/250\n",
            "700/700 [==============================] - 0s 45us/sample - loss: 245329.5436\n",
            "Epoch 37/250\n",
            "700/700 [==============================] - 0s 51us/sample - loss: 244507.9681\n",
            "Epoch 38/250\n",
            "700/700 [==============================] - 0s 45us/sample - loss: 243646.0797\n",
            "Epoch 39/250\n",
            "700/700 [==============================] - 0s 43us/sample - loss: 242742.4593\n",
            "Epoch 40/250\n",
            "700/700 [==============================] - 0s 50us/sample - loss: 241798.3947\n",
            "Epoch 41/250\n",
            "700/700 [==============================] - 0s 48us/sample - loss: 240808.4629\n",
            "Epoch 42/250\n",
            "700/700 [==============================] - 0s 50us/sample - loss: 239767.0702\n",
            "Epoch 43/250\n",
            "700/700 [==============================] - 0s 49us/sample - loss: 238682.8619\n",
            "Epoch 44/250\n",
            "700/700 [==============================] - 0s 46us/sample - loss: 237554.7298\n",
            "Epoch 45/250\n",
            "700/700 [==============================] - 0s 51us/sample - loss: 236375.1448\n",
            "Epoch 46/250\n",
            "700/700 [==============================] - 0s 49us/sample - loss: 235139.9409\n",
            "Epoch 47/250\n",
            "700/700 [==============================] - 0s 46us/sample - loss: 233854.6235\n",
            "Epoch 48/250\n",
            "700/700 [==============================] - 0s 53us/sample - loss: 232519.6988\n",
            "Epoch 49/250\n",
            "700/700 [==============================] - 0s 49us/sample - loss: 231125.8533\n",
            "Epoch 50/250\n",
            "700/700 [==============================] - 0s 46us/sample - loss: 229681.4343\n",
            "Epoch 51/250\n",
            "700/700 [==============================] - 0s 49us/sample - loss: 228190.1545\n",
            "Epoch 52/250\n",
            "700/700 [==============================] - 0s 50us/sample - loss: 226632.0754\n",
            "Epoch 53/250\n",
            "700/700 [==============================] - 0s 48us/sample - loss: 225013.8388\n",
            "Epoch 54/250\n",
            "700/700 [==============================] - 0s 54us/sample - loss: 223345.2830\n",
            "Epoch 55/250\n",
            "700/700 [==============================] - 0s 48us/sample - loss: 221612.1236\n",
            "Epoch 56/250\n",
            "700/700 [==============================] - 0s 48us/sample - loss: 219813.4457\n",
            "Epoch 57/250\n",
            "700/700 [==============================] - 0s 59us/sample - loss: 217959.0646\n",
            "Epoch 58/250\n",
            "700/700 [==============================] - 0s 48us/sample - loss: 216049.0957\n",
            "Epoch 59/250\n",
            "700/700 [==============================] - 0s 55us/sample - loss: 214072.4148\n",
            "Epoch 60/250\n",
            "700/700 [==============================] - 0s 48us/sample - loss: 212021.1996\n",
            "Epoch 61/250\n",
            "700/700 [==============================] - 0s 49us/sample - loss: 209911.6780\n",
            "Epoch 62/250\n",
            "700/700 [==============================] - 0s 52us/sample - loss: 207732.7921\n",
            "Epoch 63/250\n",
            "700/700 [==============================] - 0s 48us/sample - loss: 205484.3688\n",
            "Epoch 64/250\n",
            "700/700 [==============================] - 0s 48us/sample - loss: 203190.1523\n",
            "Epoch 65/250\n",
            "700/700 [==============================] - 0s 47us/sample - loss: 200814.8471\n",
            "Epoch 66/250\n",
            "700/700 [==============================] - 0s 46us/sample - loss: 198385.3213\n",
            "Epoch 67/250\n",
            "700/700 [==============================] - 0s 58us/sample - loss: 195875.1587\n",
            "Epoch 68/250\n",
            "700/700 [==============================] - 0s 45us/sample - loss: 193305.6512\n",
            "Epoch 69/250\n",
            "700/700 [==============================] - 0s 47us/sample - loss: 190664.5954\n",
            "Epoch 70/250\n",
            "700/700 [==============================] - 0s 48us/sample - loss: 187954.3810\n",
            "Epoch 71/250\n",
            "700/700 [==============================] - 0s 47us/sample - loss: 185180.9194\n",
            "Epoch 72/250\n",
            "700/700 [==============================] - 0s 47us/sample - loss: 182329.8369\n",
            "Epoch 73/250\n",
            "700/700 [==============================] - 0s 53us/sample - loss: 179418.4854\n",
            "Epoch 74/250\n",
            "700/700 [==============================] - 0s 50us/sample - loss: 176445.8779\n",
            "Epoch 75/250\n",
            "700/700 [==============================] - 0s 52us/sample - loss: 173400.8879\n",
            "Epoch 76/250\n",
            "700/700 [==============================] - 0s 46us/sample - loss: 170291.9774\n",
            "Epoch 77/250\n",
            "700/700 [==============================] - 0s 50us/sample - loss: 167109.9356\n",
            "Epoch 78/250\n",
            "700/700 [==============================] - 0s 43us/sample - loss: 163878.5698\n",
            "Epoch 79/250\n",
            "700/700 [==============================] - 0s 49us/sample - loss: 160586.1771\n",
            "Epoch 80/250\n",
            "700/700 [==============================] - 0s 44us/sample - loss: 157225.9526\n",
            "Epoch 81/250\n",
            "700/700 [==============================] - 0s 50us/sample - loss: 153806.5082\n",
            "Epoch 82/250\n",
            "700/700 [==============================] - 0s 44us/sample - loss: 150333.0640\n",
            "Epoch 83/250\n",
            "700/700 [==============================] - 0s 48us/sample - loss: 146778.8901\n",
            "Epoch 84/250\n",
            "700/700 [==============================] - 0s 54us/sample - loss: 143202.9765\n",
            "Epoch 85/250\n",
            "700/700 [==============================] - 0s 55us/sample - loss: 139559.8176\n",
            "Epoch 86/250\n",
            "700/700 [==============================] - 0s 51us/sample - loss: 135842.2447\n",
            "Epoch 87/250\n",
            "700/700 [==============================] - 0s 50us/sample - loss: 132101.6783\n",
            "Epoch 88/250\n",
            "700/700 [==============================] - 0s 46us/sample - loss: 128307.6929\n",
            "Epoch 89/250\n",
            "700/700 [==============================] - 0s 47us/sample - loss: 124482.9306\n",
            "Epoch 90/250\n",
            "700/700 [==============================] - 0s 52us/sample - loss: 120621.9103\n",
            "Epoch 91/250\n",
            "700/700 [==============================] - 0s 47us/sample - loss: 116701.9983\n",
            "Epoch 92/250\n",
            "700/700 [==============================] - 0s 56us/sample - loss: 112770.1717\n",
            "Epoch 93/250\n",
            "700/700 [==============================] - 0s 50us/sample - loss: 108791.3319\n",
            "Epoch 94/250\n",
            "700/700 [==============================] - 0s 51us/sample - loss: 104793.5464\n",
            "Epoch 95/250\n",
            "700/700 [==============================] - 0s 57us/sample - loss: 100779.3071\n",
            "Epoch 96/250\n",
            "700/700 [==============================] - 0s 50us/sample - loss: 96755.0541\n",
            "Epoch 97/250\n",
            "700/700 [==============================] - 0s 56us/sample - loss: 92684.3677\n",
            "Epoch 98/250\n",
            "700/700 [==============================] - 0s 47us/sample - loss: 88627.2601\n",
            "Epoch 99/250\n",
            "700/700 [==============================] - 0s 44us/sample - loss: 84562.7526\n",
            "Epoch 100/250\n",
            "700/700 [==============================] - 0s 52us/sample - loss: 80526.8742\n",
            "Epoch 101/250\n",
            "700/700 [==============================] - 0s 51us/sample - loss: 76484.0867\n",
            "Epoch 102/250\n",
            "700/700 [==============================] - 0s 49us/sample - loss: 72438.0861\n",
            "Epoch 103/250\n",
            "700/700 [==============================] - 0s 48us/sample - loss: 68455.8630\n",
            "Epoch 104/250\n",
            "700/700 [==============================] - 0s 44us/sample - loss: 64470.5172\n",
            "Epoch 105/250\n",
            "700/700 [==============================] - 0s 49us/sample - loss: 60540.5522\n",
            "Epoch 106/250\n",
            "700/700 [==============================] - 0s 48us/sample - loss: 56660.6677\n",
            "Epoch 107/250\n",
            "700/700 [==============================] - 0s 45us/sample - loss: 52847.1612\n",
            "Epoch 108/250\n",
            "700/700 [==============================] - 0s 49us/sample - loss: 49083.9094\n",
            "Epoch 109/250\n",
            "700/700 [==============================] - 0s 53us/sample - loss: 45372.6312\n",
            "Epoch 110/250\n",
            "700/700 [==============================] - 0s 51us/sample - loss: 41746.3981\n",
            "Epoch 111/250\n",
            "700/700 [==============================] - 0s 53us/sample - loss: 38219.1914\n",
            "Epoch 112/250\n",
            "700/700 [==============================] - 0s 44us/sample - loss: 34796.4343\n",
            "Epoch 113/250\n",
            "700/700 [==============================] - 0s 51us/sample - loss: 31482.0352\n",
            "Epoch 114/250\n",
            "700/700 [==============================] - 0s 47us/sample - loss: 28293.7761\n",
            "Epoch 115/250\n",
            "700/700 [==============================] - 0s 49us/sample - loss: 25244.6584\n",
            "Epoch 116/250\n",
            "700/700 [==============================] - 0s 46us/sample - loss: 22309.0786\n",
            "Epoch 117/250\n",
            "700/700 [==============================] - 0s 47us/sample - loss: 19547.6385\n",
            "Epoch 118/250\n",
            "700/700 [==============================] - 0s 51us/sample - loss: 16946.9923\n",
            "Epoch 119/250\n",
            "700/700 [==============================] - 0s 55us/sample - loss: 14543.2770\n",
            "Epoch 120/250\n",
            "700/700 [==============================] - 0s 45us/sample - loss: 12343.4372\n",
            "Epoch 121/250\n",
            "700/700 [==============================] - 0s 53us/sample - loss: 10344.7391\n",
            "Epoch 122/250\n",
            "700/700 [==============================] - 0s 50us/sample - loss: 8536.2140\n",
            "Epoch 123/250\n",
            "700/700 [==============================] - 0s 48us/sample - loss: 6996.8774\n",
            "Epoch 124/250\n",
            "700/700 [==============================] - 0s 45us/sample - loss: 5681.1291\n",
            "Epoch 125/250\n",
            "700/700 [==============================] - 0s 55us/sample - loss: 4612.0409\n",
            "Epoch 126/250\n",
            "700/700 [==============================] - 0s 43us/sample - loss: 3820.9796\n",
            "Epoch 127/250\n",
            "700/700 [==============================] - 0s 50us/sample - loss: 3296.7981\n",
            "Epoch 128/250\n",
            "700/700 [==============================] - 0s 47us/sample - loss: 2985.3214\n",
            "Epoch 129/250\n",
            "700/700 [==============================] - 0s 46us/sample - loss: 2853.6609\n",
            "Epoch 130/250\n",
            "700/700 [==============================] - 0s 54us/sample - loss: 2809.9241\n",
            "Epoch 131/250\n",
            "700/700 [==============================] - 0s 49us/sample - loss: 2783.7036\n",
            "Epoch 132/250\n",
            "700/700 [==============================] - 0s 55us/sample - loss: 2756.4486\n",
            "Epoch 133/250\n",
            "700/700 [==============================] - 0s 46us/sample - loss: 2732.4737\n",
            "Epoch 134/250\n",
            "700/700 [==============================] - 0s 45us/sample - loss: 2707.7603\n",
            "Epoch 135/250\n",
            "700/700 [==============================] - 0s 57us/sample - loss: 2684.9618\n",
            "Epoch 136/250\n",
            "700/700 [==============================] - 0s 47us/sample - loss: 2658.7602\n",
            "Epoch 137/250\n",
            "700/700 [==============================] - 0s 47us/sample - loss: 2634.0995\n",
            "Epoch 138/250\n",
            "700/700 [==============================] - 0s 46us/sample - loss: 2605.9395\n",
            "Epoch 139/250\n",
            "700/700 [==============================] - 0s 50us/sample - loss: 2580.1187\n",
            "Epoch 140/250\n",
            "700/700 [==============================] - 0s 49us/sample - loss: 2558.3352\n",
            "Epoch 141/250\n",
            "700/700 [==============================] - 0s 48us/sample - loss: 2536.5484\n",
            "Epoch 142/250\n",
            "700/700 [==============================] - 0s 47us/sample - loss: 2513.8273\n",
            "Epoch 143/250\n",
            "700/700 [==============================] - 0s 49us/sample - loss: 2488.7565\n",
            "Epoch 144/250\n",
            "700/700 [==============================] - 0s 46us/sample - loss: 2462.1802\n",
            "Epoch 145/250\n",
            "700/700 [==============================] - 0s 47us/sample - loss: 2434.2679\n",
            "Epoch 146/250\n",
            "700/700 [==============================] - 0s 52us/sample - loss: 2415.3755\n",
            "Epoch 147/250\n",
            "700/700 [==============================] - 0s 47us/sample - loss: 2391.4320\n",
            "Epoch 148/250\n",
            "700/700 [==============================] - 0s 44us/sample - loss: 2363.5003\n",
            "Epoch 149/250\n",
            "700/700 [==============================] - 0s 45us/sample - loss: 2346.9905\n",
            "Epoch 150/250\n",
            "700/700 [==============================] - 0s 43us/sample - loss: 2319.6372\n",
            "Epoch 151/250\n",
            "700/700 [==============================] - 0s 48us/sample - loss: 2296.1704\n",
            "Epoch 152/250\n",
            "700/700 [==============================] - 0s 54us/sample - loss: 2270.0776\n",
            "Epoch 153/250\n",
            "700/700 [==============================] - 0s 44us/sample - loss: 2246.5718\n",
            "Epoch 154/250\n",
            "700/700 [==============================] - 0s 52us/sample - loss: 2223.0757\n",
            "Epoch 155/250\n",
            "700/700 [==============================] - 0s 50us/sample - loss: 2199.6171\n",
            "Epoch 156/250\n",
            "700/700 [==============================] - 0s 43us/sample - loss: 2175.2869\n",
            "Epoch 157/250\n",
            "700/700 [==============================] - 0s 46us/sample - loss: 2152.3017\n",
            "Epoch 158/250\n",
            "700/700 [==============================] - 0s 44us/sample - loss: 2127.4046\n",
            "Epoch 159/250\n",
            "700/700 [==============================] - 0s 48us/sample - loss: 2106.6697\n",
            "Epoch 160/250\n",
            "700/700 [==============================] - 0s 41us/sample - loss: 2082.3062\n",
            "Epoch 161/250\n",
            "700/700 [==============================] - 0s 58us/sample - loss: 2061.2732\n",
            "Epoch 162/250\n",
            "700/700 [==============================] - 0s 47us/sample - loss: 2038.2375\n",
            "Epoch 163/250\n",
            "700/700 [==============================] - 0s 45us/sample - loss: 2016.5156\n",
            "Epoch 164/250\n",
            "700/700 [==============================] - 0s 51us/sample - loss: 1993.2299\n",
            "Epoch 165/250\n",
            "700/700 [==============================] - 0s 43us/sample - loss: 1968.9988\n",
            "Epoch 166/250\n",
            "700/700 [==============================] - 0s 49us/sample - loss: 1946.3630\n",
            "Epoch 167/250\n",
            "700/700 [==============================] - 0s 43us/sample - loss: 1923.5226\n",
            "Epoch 168/250\n",
            "700/700 [==============================] - 0s 51us/sample - loss: 1903.6212\n",
            "Epoch 169/250\n",
            "700/700 [==============================] - 0s 52us/sample - loss: 1883.2049\n",
            "Epoch 170/250\n",
            "700/700 [==============================] - 0s 42us/sample - loss: 1862.0819\n",
            "Epoch 171/250\n",
            "700/700 [==============================] - 0s 43us/sample - loss: 1840.3656\n",
            "Epoch 172/250\n",
            "700/700 [==============================] - 0s 49us/sample - loss: 1816.4784\n",
            "Epoch 173/250\n",
            "700/700 [==============================] - 0s 46us/sample - loss: 1792.2996\n",
            "Epoch 174/250\n",
            "700/700 [==============================] - 0s 42us/sample - loss: 1768.5415\n",
            "Epoch 175/250\n",
            "700/700 [==============================] - 0s 46us/sample - loss: 1746.2103\n",
            "Epoch 176/250\n",
            "700/700 [==============================] - 0s 44us/sample - loss: 1721.6684\n",
            "Epoch 177/250\n",
            "700/700 [==============================] - 0s 48us/sample - loss: 1703.1512\n",
            "Epoch 178/250\n",
            "700/700 [==============================] - 0s 46us/sample - loss: 1680.8306\n",
            "Epoch 179/250\n",
            "700/700 [==============================] - 0s 44us/sample - loss: 1657.3402\n",
            "Epoch 180/250\n",
            "700/700 [==============================] - 0s 46us/sample - loss: 1638.4794\n",
            "Epoch 181/250\n",
            "700/700 [==============================] - 0s 48us/sample - loss: 1616.7342\n",
            "Epoch 182/250\n",
            "700/700 [==============================] - 0s 48us/sample - loss: 1596.4256\n",
            "Epoch 183/250\n",
            "700/700 [==============================] - 0s 45us/sample - loss: 1574.8730\n",
            "Epoch 184/250\n",
            "700/700 [==============================] - 0s 46us/sample - loss: 1555.5923\n",
            "Epoch 185/250\n",
            "700/700 [==============================] - 0s 53us/sample - loss: 1535.2476\n",
            "Epoch 186/250\n",
            "700/700 [==============================] - 0s 48us/sample - loss: 1513.5696\n",
            "Epoch 187/250\n",
            "700/700 [==============================] - 0s 49us/sample - loss: 1490.9070\n",
            "Epoch 188/250\n",
            "700/700 [==============================] - 0s 42us/sample - loss: 1471.1204\n",
            "Epoch 189/250\n",
            "700/700 [==============================] - 0s 43us/sample - loss: 1452.0124\n",
            "Epoch 190/250\n",
            "700/700 [==============================] - 0s 55us/sample - loss: 1428.9385\n",
            "Epoch 191/250\n",
            "700/700 [==============================] - 0s 41us/sample - loss: 1408.6534\n",
            "Epoch 192/250\n",
            "700/700 [==============================] - 0s 55us/sample - loss: 1387.3545\n",
            "Epoch 193/250\n",
            "700/700 [==============================] - 0s 48us/sample - loss: 1367.9944\n",
            "Epoch 194/250\n",
            "700/700 [==============================] - 0s 47us/sample - loss: 1347.9317\n",
            "Epoch 195/250\n",
            "700/700 [==============================] - 0s 50us/sample - loss: 1327.4478\n",
            "Epoch 196/250\n",
            "700/700 [==============================] - 0s 52us/sample - loss: 1307.1146\n",
            "Epoch 197/250\n",
            "700/700 [==============================] - 0s 44us/sample - loss: 1288.2577\n",
            "Epoch 198/250\n",
            "700/700 [==============================] - 0s 55us/sample - loss: 1269.3199\n",
            "Epoch 199/250\n",
            "700/700 [==============================] - 0s 46us/sample - loss: 1249.6414\n",
            "Epoch 200/250\n",
            "700/700 [==============================] - 0s 51us/sample - loss: 1229.0910\n",
            "Epoch 201/250\n",
            "700/700 [==============================] - 0s 56us/sample - loss: 1210.9084\n",
            "Epoch 202/250\n",
            "700/700 [==============================] - 0s 53us/sample - loss: 1191.3576\n",
            "Epoch 203/250\n",
            "700/700 [==============================] - 0s 53us/sample - loss: 1172.3121\n",
            "Epoch 204/250\n",
            "700/700 [==============================] - 0s 45us/sample - loss: 1152.1553\n",
            "Epoch 205/250\n",
            "700/700 [==============================] - 0s 46us/sample - loss: 1131.5436\n",
            "Epoch 206/250\n",
            "700/700 [==============================] - 0s 45us/sample - loss: 1114.0012\n",
            "Epoch 207/250\n",
            "700/700 [==============================] - 0s 45us/sample - loss: 1096.4625\n",
            "Epoch 208/250\n",
            "700/700 [==============================] - 0s 49us/sample - loss: 1078.1516\n",
            "Epoch 209/250\n",
            "700/700 [==============================] - 0s 47us/sample - loss: 1059.7010\n",
            "Epoch 210/250\n",
            "700/700 [==============================] - 0s 49us/sample - loss: 1042.3363\n",
            "Epoch 211/250\n",
            "700/700 [==============================] - 0s 44us/sample - loss: 1023.3663\n",
            "Epoch 212/250\n",
            "700/700 [==============================] - 0s 52us/sample - loss: 1004.4178\n",
            "Epoch 213/250\n",
            "700/700 [==============================] - 0s 40us/sample - loss: 987.4762\n",
            "Epoch 214/250\n",
            "700/700 [==============================] - 0s 46us/sample - loss: 965.5340\n",
            "Epoch 215/250\n",
            "700/700 [==============================] - 0s 50us/sample - loss: 949.0409\n",
            "Epoch 216/250\n",
            "700/700 [==============================] - 0s 46us/sample - loss: 927.4777\n",
            "Epoch 217/250\n",
            "700/700 [==============================] - 0s 40us/sample - loss: 908.0184\n",
            "Epoch 218/250\n",
            "700/700 [==============================] - 0s 48us/sample - loss: 891.2120\n",
            "Epoch 219/250\n",
            "700/700 [==============================] - 0s 48us/sample - loss: 872.4340\n",
            "Epoch 220/250\n",
            "700/700 [==============================] - 0s 43us/sample - loss: 855.3963\n",
            "Epoch 221/250\n",
            "700/700 [==============================] - 0s 40us/sample - loss: 836.7136\n",
            "Epoch 222/250\n",
            "700/700 [==============================] - 0s 41us/sample - loss: 819.6290\n",
            "Epoch 223/250\n",
            "700/700 [==============================] - 0s 45us/sample - loss: 801.8901\n",
            "Epoch 224/250\n",
            "700/700 [==============================] - 0s 55us/sample - loss: 784.1615\n",
            "Epoch 225/250\n",
            "700/700 [==============================] - 0s 44us/sample - loss: 766.6373\n",
            "Epoch 226/250\n",
            "700/700 [==============================] - 0s 49us/sample - loss: 749.5257\n",
            "Epoch 227/250\n",
            "700/700 [==============================] - 0s 50us/sample - loss: 731.3619\n",
            "Epoch 228/250\n",
            "700/700 [==============================] - 0s 47us/sample - loss: 715.4367\n",
            "Epoch 229/250\n",
            "700/700 [==============================] - 0s 49us/sample - loss: 698.9737\n",
            "Epoch 230/250\n",
            "700/700 [==============================] - 0s 52us/sample - loss: 680.2678\n",
            "Epoch 231/250\n",
            "700/700 [==============================] - 0s 49us/sample - loss: 664.4736\n",
            "Epoch 232/250\n",
            "700/700 [==============================] - 0s 50us/sample - loss: 645.7768\n",
            "Epoch 233/250\n",
            "700/700 [==============================] - 0s 47us/sample - loss: 630.7712\n",
            "Epoch 234/250\n",
            "700/700 [==============================] - 0s 52us/sample - loss: 615.7128\n",
            "Epoch 235/250\n",
            "700/700 [==============================] - 0s 47us/sample - loss: 602.9311\n",
            "Epoch 236/250\n",
            "700/700 [==============================] - 0s 42us/sample - loss: 587.5830\n",
            "Epoch 237/250\n",
            "700/700 [==============================] - 0s 46us/sample - loss: 572.0535\n",
            "Epoch 238/250\n",
            "700/700 [==============================] - 0s 43us/sample - loss: 556.4941\n",
            "Epoch 239/250\n",
            "700/700 [==============================] - 0s 42us/sample - loss: 543.0698\n",
            "Epoch 240/250\n",
            "700/700 [==============================] - 0s 42us/sample - loss: 527.1082\n",
            "Epoch 241/250\n",
            "700/700 [==============================] - 0s 48us/sample - loss: 513.2207\n",
            "Epoch 242/250\n",
            "700/700 [==============================] - 0s 50us/sample - loss: 498.3363\n",
            "Epoch 243/250\n",
            "700/700 [==============================] - 0s 50us/sample - loss: 485.7197\n",
            "Epoch 244/250\n",
            "700/700 [==============================] - 0s 44us/sample - loss: 471.8825\n",
            "Epoch 245/250\n",
            "700/700 [==============================] - 0s 44us/sample - loss: 458.2122\n",
            "Epoch 246/250\n",
            "700/700 [==============================] - 0s 49us/sample - loss: 444.3065\n",
            "Epoch 247/250\n",
            "700/700 [==============================] - 0s 46us/sample - loss: 428.4097\n",
            "Epoch 248/250\n",
            "700/700 [==============================] - 0s 50us/sample - loss: 416.6301\n",
            "Epoch 249/250\n",
            "700/700 [==============================] - 0s 50us/sample - loss: 403.1941\n",
            "Epoch 250/250\n",
            "700/700 [==============================] - 0s 40us/sample - loss: 389.0806\n"
          ],
          "name": "stdout"
        },
        {
          "output_type": "execute_result",
          "data": {
            "text/plain": [
              "<tensorflow.python.keras.callbacks.History at 0x7f53ac9066a0>"
            ]
          },
          "metadata": {
            "tags": []
          },
          "execution_count": 117
        }
      ]
    },
    {
      "cell_type": "code",
      "metadata": {
        "id": "sn23CdqG9CX9",
        "colab_type": "code",
        "colab": {}
      },
      "source": [
        ""
      ],
      "execution_count": 0,
      "outputs": []
    },
    {
      "cell_type": "markdown",
      "metadata": {
        "id": "aLiNvS789Nx7",
        "colab_type": "text"
      },
      "source": [
        "### Visualizing the history of the model training session"
      ]
    },
    {
      "cell_type": "markdown",
      "metadata": {
        "id": "aomFWHS49jgE",
        "colab_type": "text"
      },
      "source": [
        "model.history.history returns a single dimensional array whos index represents the epoch, and value represents the loss"
      ]
    },
    {
      "cell_type": "code",
      "metadata": {
        "id": "6aEButrm9UFB",
        "colab_type": "code",
        "colab": {
          "base_uri": "https://localhost:8080/",
          "height": 1000
        },
        "outputId": "65fab85b-fddf-4bfd-add5-34f3ee25276e"
      },
      "source": [
        "model.history.history"
      ],
      "execution_count": 118,
      "outputs": [
        {
          "output_type": "execute_result",
          "data": {
            "text/plain": [
              "{'loss': [256698.01080357144,\n",
              "  256647.6075,\n",
              "  256592.7769642857,\n",
              "  256529.435,\n",
              "  256457.22232142856,\n",
              "  256375.48160714286,\n",
              "  256283.61285714287,\n",
              "  256180.98017857142,\n",
              "  256066.47553571427,\n",
              "  255939.623125,\n",
              "  255799.7507142857,\n",
              "  255645.84267857144,\n",
              "  255477.2575,\n",
              "  255292.95,\n",
              "  255092.44133928572,\n",
              "  254874.8717857143,\n",
              "  254638.32098214285,\n",
              "  254382.8442857143,\n",
              "  254107.15160714285,\n",
              "  253811.06526785714,\n",
              "  253491.38169642858,\n",
              "  253149.10107142857,\n",
              "  252782.71776785713,\n",
              "  252392.28642857142,\n",
              "  251974.99633928572,\n",
              "  251530.34580357143,\n",
              "  251055.64901785715,\n",
              "  250553.59419642857,\n",
              "  250017.14821428573,\n",
              "  249453.1207142857,\n",
              "  248855.38553571427,\n",
              "  248219.81294642857,\n",
              "  247554.9504464286,\n",
              "  246850.4613392857,\n",
              "  246107.82705357144,\n",
              "  245329.54357142857,\n",
              "  244507.968125,\n",
              "  243646.07973214285,\n",
              "  242742.45928571429,\n",
              "  241798.39473214286,\n",
              "  240808.46294642857,\n",
              "  239767.07017857142,\n",
              "  238682.861875,\n",
              "  237554.72982142857,\n",
              "  236375.14482142858,\n",
              "  235139.94089285715,\n",
              "  233854.62348214287,\n",
              "  232519.69875,\n",
              "  231125.85330357144,\n",
              "  229681.4342857143,\n",
              "  228190.1544642857,\n",
              "  226632.0754464286,\n",
              "  225013.83875,\n",
              "  223345.2830357143,\n",
              "  221612.12357142856,\n",
              "  219813.4457142857,\n",
              "  217959.06455357143,\n",
              "  216049.0957142857,\n",
              "  214072.41482142857,\n",
              "  212021.19955357144,\n",
              "  209911.67803571429,\n",
              "  207732.79205357144,\n",
              "  205484.36883928571,\n",
              "  203190.15232142858,\n",
              "  200814.84714285715,\n",
              "  198385.32125,\n",
              "  195875.15866071428,\n",
              "  193305.65116071427,\n",
              "  190664.59544642858,\n",
              "  187954.38098214284,\n",
              "  185180.919375,\n",
              "  182329.836875,\n",
              "  179418.48544642856,\n",
              "  176445.87794642858,\n",
              "  173400.88785714286,\n",
              "  170291.9774107143,\n",
              "  167109.935625,\n",
              "  163878.56982142857,\n",
              "  160586.17714285714,\n",
              "  157225.9525892857,\n",
              "  153806.5082142857,\n",
              "  150333.06401785713,\n",
              "  146778.8900892857,\n",
              "  143202.97651785714,\n",
              "  139559.81758928573,\n",
              "  135842.24473214286,\n",
              "  132101.67825892856,\n",
              "  128307.69294642858,\n",
              "  124482.930625,\n",
              "  120621.91026785714,\n",
              "  116701.99830357142,\n",
              "  112770.17174107143,\n",
              "  108791.331875,\n",
              "  104793.54638392857,\n",
              "  100779.30714285714,\n",
              "  96755.0540625,\n",
              "  92684.36772321428,\n",
              "  88627.26013392858,\n",
              "  84562.75258928571,\n",
              "  80526.87424107143,\n",
              "  76484.08669642857,\n",
              "  72438.08607142857,\n",
              "  68455.86299107142,\n",
              "  64470.51720982143,\n",
              "  60540.552165178575,\n",
              "  56660.66765625,\n",
              "  52847.161205357144,\n",
              "  49083.909419642856,\n",
              "  45372.631183035715,\n",
              "  41746.39808035714,\n",
              "  38219.19140625,\n",
              "  34796.43426339285,\n",
              "  31482.035200892857,\n",
              "  28293.776127232144,\n",
              "  25244.658426339287,\n",
              "  22309.078638392857,\n",
              "  19547.63848214286,\n",
              "  16946.992299107143,\n",
              "  14543.276975446428,\n",
              "  12343.437193080357,\n",
              "  10344.739129464286,\n",
              "  8536.213956473215,\n",
              "  6996.877352120536,\n",
              "  5681.129079241072,\n",
              "  4612.0408984375,\n",
              "  3820.979580078125,\n",
              "  3296.798129185268,\n",
              "  2985.3214076450895,\n",
              "  2853.6609012276786,\n",
              "  2809.9241322544644,\n",
              "  2783.7035714285716,\n",
              "  2756.4485574776786,\n",
              "  2732.47369140625,\n",
              "  2707.7603390066965,\n",
              "  2684.9618150111605,\n",
              "  2658.760152064732,\n",
              "  2634.0994740513393,\n",
              "  2605.939527064732,\n",
              "  2580.1187276785713,\n",
              "  2558.3351646205356,\n",
              "  2536.5483635602677,\n",
              "  2513.8272963169643,\n",
              "  2488.7565262276785,\n",
              "  2462.1802273995536,\n",
              "  2434.267933872768,\n",
              "  2415.3754534040177,\n",
              "  2391.432013811384,\n",
              "  2363.500255301339,\n",
              "  2346.9904575892856,\n",
              "  2319.6372021484376,\n",
              "  2296.17037109375,\n",
              "  2270.0776046316964,\n",
              "  2246.5717626953124,\n",
              "  2223.0756515066964,\n",
              "  2199.617089146205,\n",
              "  2175.286931501116,\n",
              "  2152.3017410714288,\n",
              "  2127.404562639509,\n",
              "  2106.6697335379463,\n",
              "  2082.306232561384,\n",
              "  2061.273191266741,\n",
              "  2038.2374539620537,\n",
              "  2016.5156166294644,\n",
              "  1993.229933733259,\n",
              "  1968.9988246372768,\n",
              "  1946.3630475725447,\n",
              "  1923.5226025390625,\n",
              "  1903.6212248883928,\n",
              "  1883.2048618861606,\n",
              "  1862.0819349888393,\n",
              "  1840.3656431361608,\n",
              "  1816.4783782087054,\n",
              "  1792.2996379743304,\n",
              "  1768.5414683314732,\n",
              "  1746.2102859933036,\n",
              "  1721.6683510044643,\n",
              "  1703.1512332589286,\n",
              "  1680.830627092634,\n",
              "  1657.3401597377233,\n",
              "  1638.4794140625,\n",
              "  1616.7342473493304,\n",
              "  1596.4256103515625,\n",
              "  1574.8729757254464,\n",
              "  1555.5923388671874,\n",
              "  1535.2476353236607,\n",
              "  1513.5696275111607,\n",
              "  1490.907048688616,\n",
              "  1471.1204070172992,\n",
              "  1452.012390485491,\n",
              "  1428.938470982143,\n",
              "  1408.6533621651786,\n",
              "  1387.3544614955358,\n",
              "  1367.9943959263394,\n",
              "  1347.9316608537947,\n",
              "  1327.4478034319197,\n",
              "  1307.1145640345983,\n",
              "  1288.2576653180804,\n",
              "  1269.3199358258928,\n",
              "  1249.641418108259,\n",
              "  1229.0910107421876,\n",
              "  1210.9083600725446,\n",
              "  1191.3576213727679,\n",
              "  1172.3121121651786,\n",
              "  1152.1552601841518,\n",
              "  1131.543566545759,\n",
              "  1114.0012015206473,\n",
              "  1096.462470703125,\n",
              "  1078.1515771484376,\n",
              "  1059.7009933035715,\n",
              "  1042.3363319614955,\n",
              "  1023.3663190569197,\n",
              "  1004.4178355189732,\n",
              "  987.4762475585937,\n",
              "  965.5340175083705,\n",
              "  949.0409315708705,\n",
              "  927.4777071707589,\n",
              "  908.0183935546875,\n",
              "  891.2120249720982,\n",
              "  872.43400390625,\n",
              "  855.3962698800224,\n",
              "  836.7136467633928,\n",
              "  819.6290422712053,\n",
              "  801.890088936942,\n",
              "  784.1615112304687,\n",
              "  766.6373343331474,\n",
              "  749.5256595284599,\n",
              "  731.361885811942,\n",
              "  715.4367208426339,\n",
              "  698.9736589704241,\n",
              "  680.2678098842076,\n",
              "  664.4735906110491,\n",
              "  645.7768296595982,\n",
              "  630.7711558314733,\n",
              "  615.71279296875,\n",
              "  602.9311239188058,\n",
              "  587.5830011858259,\n",
              "  572.0535477120536,\n",
              "  556.4940544782366,\n",
              "  543.069805733817,\n",
              "  527.1082481166295,\n",
              "  513.2206884765625,\n",
              "  498.33625941685267,\n",
              "  485.7196899414063,\n",
              "  471.8824759347098,\n",
              "  458.21220999581476,\n",
              "  444.3064665876116,\n",
              "  428.40968819754465,\n",
              "  416.6301497977121,\n",
              "  403.19405744280135,\n",
              "  389.0806457519531]}"
            ]
          },
          "metadata": {
            "tags": []
          },
          "execution_count": 118
        }
      ]
    },
    {
      "cell_type": "markdown",
      "metadata": {
        "id": "8udiwoaZ9s94",
        "colab_type": "text"
      },
      "source": [
        "We can create a dataframe using the history data"
      ]
    },
    {
      "cell_type": "code",
      "metadata": {
        "id": "4viTExP69VXl",
        "colab_type": "code",
        "colab": {
          "base_uri": "https://localhost:8080/",
          "height": 419
        },
        "outputId": "687c6023-f72b-4095-ca29-39a54522b987"
      },
      "source": [
        "pd.DataFrame(model.history.history)"
      ],
      "execution_count": 119,
      "outputs": [
        {
          "output_type": "execute_result",
          "data": {
            "text/html": [
              "<div>\n",
              "<style scoped>\n",
              "    .dataframe tbody tr th:only-of-type {\n",
              "        vertical-align: middle;\n",
              "    }\n",
              "\n",
              "    .dataframe tbody tr th {\n",
              "        vertical-align: top;\n",
              "    }\n",
              "\n",
              "    .dataframe thead th {\n",
              "        text-align: right;\n",
              "    }\n",
              "</style>\n",
              "<table border=\"1\" class=\"dataframe\">\n",
              "  <thead>\n",
              "    <tr style=\"text-align: right;\">\n",
              "      <th></th>\n",
              "      <th>loss</th>\n",
              "    </tr>\n",
              "  </thead>\n",
              "  <tbody>\n",
              "    <tr>\n",
              "      <th>0</th>\n",
              "      <td>256698.010804</td>\n",
              "    </tr>\n",
              "    <tr>\n",
              "      <th>1</th>\n",
              "      <td>256647.607500</td>\n",
              "    </tr>\n",
              "    <tr>\n",
              "      <th>2</th>\n",
              "      <td>256592.776964</td>\n",
              "    </tr>\n",
              "    <tr>\n",
              "      <th>3</th>\n",
              "      <td>256529.435000</td>\n",
              "    </tr>\n",
              "    <tr>\n",
              "      <th>4</th>\n",
              "      <td>256457.222321</td>\n",
              "    </tr>\n",
              "    <tr>\n",
              "      <th>...</th>\n",
              "      <td>...</td>\n",
              "    </tr>\n",
              "    <tr>\n",
              "      <th>245</th>\n",
              "      <td>444.306467</td>\n",
              "    </tr>\n",
              "    <tr>\n",
              "      <th>246</th>\n",
              "      <td>428.409688</td>\n",
              "    </tr>\n",
              "    <tr>\n",
              "      <th>247</th>\n",
              "      <td>416.630150</td>\n",
              "    </tr>\n",
              "    <tr>\n",
              "      <th>248</th>\n",
              "      <td>403.194057</td>\n",
              "    </tr>\n",
              "    <tr>\n",
              "      <th>249</th>\n",
              "      <td>389.080646</td>\n",
              "    </tr>\n",
              "  </tbody>\n",
              "</table>\n",
              "<p>250 rows × 1 columns</p>\n",
              "</div>"
            ],
            "text/plain": [
              "              loss\n",
              "0    256698.010804\n",
              "1    256647.607500\n",
              "2    256592.776964\n",
              "3    256529.435000\n",
              "4    256457.222321\n",
              "..             ...\n",
              "245     444.306467\n",
              "246     428.409688\n",
              "247     416.630150\n",
              "248     403.194057\n",
              "249     389.080646\n",
              "\n",
              "[250 rows x 1 columns]"
            ]
          },
          "metadata": {
            "tags": []
          },
          "execution_count": 119
        }
      ]
    },
    {
      "cell_type": "markdown",
      "metadata": {
        "id": "8neOwvw09xvr",
        "colab_type": "text"
      },
      "source": [
        "The DataFrame can be plotted using pandas builtin plot function"
      ]
    },
    {
      "cell_type": "code",
      "metadata": {
        "id": "nCsGEwJ49ZDI",
        "colab_type": "code",
        "colab": {
          "base_uri": "https://localhost:8080/",
          "height": 282
        },
        "outputId": "2b35d3a5-976c-4e55-e996-d69ea0c2fad0"
      },
      "source": [
        "pd.DataFrame(model.history.history).plot()"
      ],
      "execution_count": 120,
      "outputs": [
        {
          "output_type": "execute_result",
          "data": {
            "text/plain": [
              "<matplotlib.axes._subplots.AxesSubplot at 0x7f53ac8149e8>"
            ]
          },
          "metadata": {
            "tags": []
          },
          "execution_count": 120
        },
        {
          "output_type": "display_data",
          "data": {
            "image/png": "[encoded data removed]",
            "text/plain": [
              "<Figure size 432x288 with 1 Axes>"
            ]
          },
          "metadata": {
            "tags": []
          }
        }
      ]
    },
    {
      "cell_type": "markdown",
      "metadata": {
        "id": "YnsTxDIZ-Kid",
        "colab_type": "text"
      },
      "source": [
        "## Model Evaluation"
      ]
    },
    {
      "cell_type": "markdown",
      "metadata": {
        "id": "2dEQcW3uAIH1",
        "colab_type": "text"
      },
      "source": [
        "### View the loss of the test, and training set (mean squared error)"
      ]
    },
    {
      "cell_type": "code",
      "metadata": {
        "id": "3BOj1ZhS9ejP",
        "colab_type": "code",
        "colab": {
          "base_uri": "https://localhost:8080/",
          "height": 34
        },
        "outputId": "047f8500-79bd-4ca9-a20e-505283448c5f"
      },
      "source": [
        "model.evaluate(X_test, y_test, verbose=0)"
      ],
      "execution_count": 121,
      "outputs": [
        {
          "output_type": "execute_result",
          "data": {
            "text/plain": [
              "369.0542704264323"
            ]
          },
          "metadata": {
            "tags": []
          },
          "execution_count": 121
        }
      ]
    },
    {
      "cell_type": "code",
      "metadata": {
        "id": "rdwuw8LN-yti",
        "colab_type": "code",
        "colab": {
          "base_uri": "https://localhost:8080/",
          "height": 34
        },
        "outputId": "bd7e65d9-7ae5-4388-f068-a1bd63148111"
      },
      "source": [
        "model.evaluate(X_train, y_train, verbose=0)"
      ],
      "execution_count": 122,
      "outputs": [
        {
          "output_type": "execute_result",
          "data": {
            "text/plain": [
              "380.4851402064732"
            ]
          },
          "metadata": {
            "tags": []
          },
          "execution_count": 122
        }
      ]
    },
    {
      "cell_type": "markdown",
      "metadata": {
        "id": "6kG7edAGAhB7",
        "colab_type": "text"
      },
      "source": [
        "### Get our predictions based on the model"
      ]
    },
    {
      "cell_type": "code",
      "metadata": {
        "id": "1H4K3vz6-55w",
        "colab_type": "code",
        "colab": {}
      },
      "source": [
        "test_predictions = model.predict(X_test)"
      ],
      "execution_count": 0,
      "outputs": []
    },
    {
      "cell_type": "markdown",
      "metadata": {
        "id": "JogeVfc7AsIj",
        "colab_type": "text"
      },
      "source": [
        "Show the list of predictions of price given the test data set"
      ]
    },
    {
      "cell_type": "code",
      "metadata": {
        "id": "gzn_EsG2Anxj",
        "colab_type": "code",
        "colab": {
          "base_uri": "https://localhost:8080/",
          "height": 34
        },
        "outputId": "4a290a3e-e4d0-4134-8424-ef98b82218d2"
      },
      "source": [
        "test_predictions.shape"
      ],
      "execution_count": 124,
      "outputs": [
        {
          "output_type": "execute_result",
          "data": {
            "text/plain": [
              "(300, 1)"
            ]
          },
          "metadata": {
            "tags": []
          },
          "execution_count": 124
        }
      ]
    },
    {
      "cell_type": "markdown",
      "metadata": {
        "id": "PDBTVt0VBIgt",
        "colab_type": "text"
      },
      "source": [
        "Convert to a Pandas sereis"
      ]
    },
    {
      "cell_type": "code",
      "metadata": {
        "id": "7JF3Ch7MAo8J",
        "colab_type": "code",
        "colab": {}
      },
      "source": [
        "test_predictions = pd.Series(test_predictions.reshape(300,))"
      ],
      "execution_count": 0,
      "outputs": []
    },
    {
      "cell_type": "code",
      "metadata": {
        "id": "duCIqus3A9m8",
        "colab_type": "code",
        "colab": {
          "base_uri": "https://localhost:8080/",
          "height": 221
        },
        "outputId": "938a39f7-8d83-4952-96bb-1b3799a69b41"
      },
      "source": [
        "test_predictions"
      ],
      "execution_count": 126,
      "outputs": [
        {
          "output_type": "execute_result",
          "data": {
            "text/plain": [
              "0      426.179108\n",
              "1      602.601929\n",
              "2      579.162537\n",
              "3      556.672729\n",
              "4      386.404327\n",
              "          ...    \n",
              "295    522.418152\n",
              "296    501.233734\n",
              "297    592.340698\n",
              "298    439.610138\n",
              "299    427.434601\n",
              "Length: 300, dtype: float32"
            ]
          },
          "metadata": {
            "tags": []
          },
          "execution_count": 126
        }
      ]
    },
    {
      "cell_type": "code",
      "metadata": {
        "id": "mB--bTHYBF9J",
        "colab_type": "code",
        "colab": {}
      },
      "source": [
        "pred_df = pd.DataFrame(y_test, columns=['Test True Y'])"
      ],
      "execution_count": 0,
      "outputs": []
    },
    {
      "cell_type": "code",
      "metadata": {
        "id": "IWTF_1YdBTkb",
        "colab_type": "code",
        "colab": {}
      },
      "source": [
        "pred_df = pd.concat([pred_df, test_predictions], axis=1)"
      ],
      "execution_count": 0,
      "outputs": []
    },
    {
      "cell_type": "code",
      "metadata": {
        "id": "hg2zfG4lBW1B",
        "colab_type": "code",
        "colab": {}
      },
      "source": [
        "pred_df.columns = ['Test True Y', 'Model Prediction']"
      ],
      "execution_count": 0,
      "outputs": []
    },
    {
      "cell_type": "code",
      "metadata": {
        "id": "cQDpX7KWBXeE",
        "colab_type": "code",
        "colab": {
          "base_uri": "https://localhost:8080/",
          "height": 419
        },
        "outputId": "bb9344d0-4da7-4b79-ded6-461ff9cdb426"
      },
      "source": [
        "pred_df"
      ],
      "execution_count": 130,
      "outputs": [
        {
          "output_type": "execute_result",
          "data": {
            "text/html": [
              "<div>\n",
              "<style scoped>\n",
              "    .dataframe tbody tr th:only-of-type {\n",
              "        vertical-align: middle;\n",
              "    }\n",
              "\n",
              "    .dataframe tbody tr th {\n",
              "        vertical-align: top;\n",
              "    }\n",
              "\n",
              "    .dataframe thead th {\n",
              "        text-align: right;\n",
              "    }\n",
              "</style>\n",
              "<table border=\"1\" class=\"dataframe\">\n",
              "  <thead>\n",
              "    <tr style=\"text-align: right;\">\n",
              "      <th></th>\n",
              "      <th>Test True Y</th>\n",
              "      <th>Model Prediction</th>\n",
              "    </tr>\n",
              "  </thead>\n",
              "  <tbody>\n",
              "    <tr>\n",
              "      <th>0</th>\n",
              "      <td>402.296319</td>\n",
              "      <td>426.179108</td>\n",
              "    </tr>\n",
              "    <tr>\n",
              "      <th>1</th>\n",
              "      <td>624.156198</td>\n",
              "      <td>602.601929</td>\n",
              "    </tr>\n",
              "    <tr>\n",
              "      <th>2</th>\n",
              "      <td>582.455066</td>\n",
              "      <td>579.162537</td>\n",
              "    </tr>\n",
              "    <tr>\n",
              "      <th>3</th>\n",
              "      <td>578.588606</td>\n",
              "      <td>556.672729</td>\n",
              "    </tr>\n",
              "    <tr>\n",
              "      <th>4</th>\n",
              "      <td>371.224104</td>\n",
              "      <td>386.404327</td>\n",
              "    </tr>\n",
              "    <tr>\n",
              "      <th>...</th>\n",
              "      <td>...</td>\n",
              "      <td>...</td>\n",
              "    </tr>\n",
              "    <tr>\n",
              "      <th>295</th>\n",
              "      <td>525.704657</td>\n",
              "      <td>522.418152</td>\n",
              "    </tr>\n",
              "    <tr>\n",
              "      <th>296</th>\n",
              "      <td>502.909473</td>\n",
              "      <td>501.233734</td>\n",
              "    </tr>\n",
              "    <tr>\n",
              "      <th>297</th>\n",
              "      <td>612.727910</td>\n",
              "      <td>592.340698</td>\n",
              "    </tr>\n",
              "    <tr>\n",
              "      <th>298</th>\n",
              "      <td>417.569725</td>\n",
              "      <td>439.610138</td>\n",
              "    </tr>\n",
              "    <tr>\n",
              "      <th>299</th>\n",
              "      <td>410.538250</td>\n",
              "      <td>427.434601</td>\n",
              "    </tr>\n",
              "  </tbody>\n",
              "</table>\n",
              "<p>300 rows × 2 columns</p>\n",
              "</div>"
            ],
            "text/plain": [
              "     Test True Y  Model Prediction\n",
              "0     402.296319        426.179108\n",
              "1     624.156198        602.601929\n",
              "2     582.455066        579.162537\n",
              "3     578.588606        556.672729\n",
              "4     371.224104        386.404327\n",
              "..           ...               ...\n",
              "295   525.704657        522.418152\n",
              "296   502.909473        501.233734\n",
              "297   612.727910        592.340698\n",
              "298   417.569725        439.610138\n",
              "299   410.538250        427.434601\n",
              "\n",
              "[300 rows x 2 columns]"
            ]
          },
          "metadata": {
            "tags": []
          },
          "execution_count": 130
        }
      ]
    },
    {
      "cell_type": "markdown",
      "metadata": {
        "id": "oDoHrcdmD7yY",
        "colab_type": "text"
      },
      "source": [
        "### Visualizing the performance of the model.\n",
        "\n",
        "Here we see that there is a pretty good correlation between the predicted and actual values"
      ]
    },
    {
      "cell_type": "code",
      "metadata": {
        "id": "mjH6KtfBCyp4",
        "colab_type": "code",
        "colab": {
          "base_uri": "https://localhost:8080/",
          "height": 296
        },
        "outputId": "9d926723-c746-4841-dfb0-b3f5bffa8b72"
      },
      "source": [
        "sns.scatterplot(x='Test True Y', y='Model Prediction', data=pred_df)"
      ],
      "execution_count": 131,
      "outputs": [
        {
          "output_type": "execute_result",
          "data": {
            "text/plain": [
              "<matplotlib.axes._subplots.AxesSubplot at 0x7f53ac768c50>"
            ]
          },
          "metadata": {
            "tags": []
          },
          "execution_count": 131
        },
        {
          "output_type": "display_data",
          "data": {
            "image/png": "[encoded data removed]",
            "text/plain": [
              "<Figure size 432x288 with 1 Axes>"
            ]
          },
          "metadata": {
            "tags": []
          }
        }
      ]
    },
    {
      "cell_type": "markdown",
      "metadata": {
        "id": "aCzxZ-aEEE1F",
        "colab_type": "text"
      },
      "source": [
        "### Evaluating the model's performance using statistics"
      ]
    },
    {
      "cell_type": "code",
      "metadata": {
        "id": "g0WzbTOnC-_S",
        "colab_type": "code",
        "colab": {}
      },
      "source": [
        "from sklearn.metrics import mean_absolute_error, mean_squared_error"
      ],
      "execution_count": 0,
      "outputs": []
    },
    {
      "cell_type": "markdown",
      "metadata": {
        "id": "LJPEoKXKEMK2",
        "colab_type": "text"
      },
      "source": [
        "We can use SciKit Learn's mean_absolute_error function which shows that we are off by about four dollars"
      ]
    },
    {
      "cell_type": "code",
      "metadata": {
        "id": "06yD-Rp0DbW0",
        "colab_type": "code",
        "colab": {
          "base_uri": "https://localhost:8080/",
          "height": 34
        },
        "outputId": "910f0d91-91a3-4401-9317-73272390bfd4"
      },
      "source": [
        "mean_absolute_error(pred_df['Test True Y'], pred_df['Model Prediction'])"
      ],
      "execution_count": 133,
      "outputs": [
        {
          "output_type": "execute_result",
          "data": {
            "text/plain": [
              "15.179563110228203"
            ]
          },
          "metadata": {
            "tags": []
          },
          "execution_count": 133
        }
      ]
    },
    {
      "cell_type": "markdown",
      "metadata": {
        "id": "AoFwb9Y5EYrL",
        "colab_type": "text"
      },
      "source": [
        "To figure out if this is an acceptable amount it is helpful to compare it to the mean of the dataset.\n",
        "\n",
        "In this case the average price is 498 meaning we more than 99% accurate which seems like a pretty good model"
      ]
    },
    {
      "cell_type": "code",
      "metadata": {
        "id": "lEJUsaRSDnLL",
        "colab_type": "code",
        "colab": {
          "base_uri": "https://localhost:8080/",
          "height": 297
        },
        "outputId": "b718cceb-5399-4203-85fb-e24fe4b6f00b"
      },
      "source": [
        "df.describe()"
      ],
      "execution_count": 134,
      "outputs": [
        {
          "output_type": "execute_result",
          "data": {
            "text/html": [
              "<div>\n",
              "<style scoped>\n",
              "    .dataframe tbody tr th:only-of-type {\n",
              "        vertical-align: middle;\n",
              "    }\n",
              "\n",
              "    .dataframe tbody tr th {\n",
              "        vertical-align: top;\n",
              "    }\n",
              "\n",
              "    .dataframe thead th {\n",
              "        text-align: right;\n",
              "    }\n",
              "</style>\n",
              "<table border=\"1\" class=\"dataframe\">\n",
              "  <thead>\n",
              "    <tr style=\"text-align: right;\">\n",
              "      <th></th>\n",
              "      <th>price</th>\n",
              "      <th>feature1</th>\n",
              "      <th>feature2</th>\n",
              "    </tr>\n",
              "  </thead>\n",
              "  <tbody>\n",
              "    <tr>\n",
              "      <th>count</th>\n",
              "      <td>1000.000000</td>\n",
              "      <td>1000.000000</td>\n",
              "      <td>1000.000000</td>\n",
              "    </tr>\n",
              "    <tr>\n",
              "      <th>mean</th>\n",
              "      <td>498.673029</td>\n",
              "      <td>1000.014171</td>\n",
              "      <td>999.979847</td>\n",
              "    </tr>\n",
              "    <tr>\n",
              "      <th>std</th>\n",
              "      <td>93.785431</td>\n",
              "      <td>0.974018</td>\n",
              "      <td>0.948330</td>\n",
              "    </tr>\n",
              "    <tr>\n",
              "      <th>min</th>\n",
              "      <td>223.346793</td>\n",
              "      <td>997.058347</td>\n",
              "      <td>996.995651</td>\n",
              "    </tr>\n",
              "    <tr>\n",
              "      <th>25%</th>\n",
              "      <td>433.025732</td>\n",
              "      <td>999.332068</td>\n",
              "      <td>999.316106</td>\n",
              "    </tr>\n",
              "    <tr>\n",
              "      <th>50%</th>\n",
              "      <td>502.382117</td>\n",
              "      <td>1000.009915</td>\n",
              "      <td>1000.002243</td>\n",
              "    </tr>\n",
              "    <tr>\n",
              "      <th>75%</th>\n",
              "      <td>564.921588</td>\n",
              "      <td>1000.637580</td>\n",
              "      <td>1000.645380</td>\n",
              "    </tr>\n",
              "    <tr>\n",
              "      <th>max</th>\n",
              "      <td>774.407854</td>\n",
              "      <td>1003.207934</td>\n",
              "      <td>1002.666308</td>\n",
              "    </tr>\n",
              "  </tbody>\n",
              "</table>\n",
              "</div>"
            ],
            "text/plain": [
              "             price     feature1     feature2\n",
              "count  1000.000000  1000.000000  1000.000000\n",
              "mean    498.673029  1000.014171   999.979847\n",
              "std      93.785431     0.974018     0.948330\n",
              "min     223.346793   997.058347   996.995651\n",
              "25%     433.025732   999.332068   999.316106\n",
              "50%     502.382117  1000.009915  1000.002243\n",
              "75%     564.921588  1000.637580  1000.645380\n",
              "max     774.407854  1003.207934  1002.666308"
            ]
          },
          "metadata": {
            "tags": []
          },
          "execution_count": 134
        }
      ]
    },
    {
      "cell_type": "code",
      "metadata": {
        "id": "jx_BxlbJEVT5",
        "colab_type": "code",
        "colab": {}
      },
      "source": [
        ""
      ],
      "execution_count": 0,
      "outputs": []
    },
    {
      "cell_type": "markdown",
      "metadata": {
        "id": "66FUmdeRFMJm",
        "colab_type": "text"
      },
      "source": [
        "### Using the model on new data"
      ]
    },
    {
      "cell_type": "markdown",
      "metadata": {
        "id": "PX-LoCKbFVXi",
        "colab_type": "text"
      },
      "source": [
        "Pretend we found a gem and feature1 is 998, and feature2 is 100"
      ]
    },
    {
      "cell_type": "code",
      "metadata": {
        "id": "P5tUBqGjFO_O",
        "colab_type": "code",
        "colab": {}
      },
      "source": [
        "new_gem = [[998, 1000]]"
      ],
      "execution_count": 0,
      "outputs": []
    },
    {
      "cell_type": "markdown",
      "metadata": {
        "id": "dvNhcRKwFZu3",
        "colab_type": "text"
      },
      "source": [
        "Before we can use our model we need to transform it using the scaler that we used to transform our training, and test data"
      ]
    },
    {
      "cell_type": "code",
      "metadata": {
        "id": "uLI1JHedFROh",
        "colab_type": "code",
        "colab": {
          "base_uri": "https://localhost:8080/",
          "height": 34
        },
        "outputId": "dba6523b-c2f1-4d4c-841a-4e27ccf17cd0"
      },
      "source": [
        "new_gem = scaler.transform(new_gem)\n",
        "new_gem"
      ],
      "execution_count": 136,
      "outputs": [
        {
          "output_type": "execute_result",
          "data": {
            "text/plain": [
              "array([[0.14117652, 0.53968792]])"
            ]
          },
          "metadata": {
            "tags": []
          },
          "execution_count": 136
        }
      ]
    },
    {
      "cell_type": "code",
      "metadata": {
        "id": "wuFw3pJzFTuI",
        "colab_type": "code",
        "colab": {
          "base_uri": "https://localhost:8080/",
          "height": 34
        },
        "outputId": "0e6f0580-ebe7-47e2-9502-6a05e42a24b1"
      },
      "source": [
        "model.predict(new_gem)"
      ],
      "execution_count": 137,
      "outputs": [
        {
          "output_type": "execute_result",
          "data": {
            "text/plain": [
              "array([[429.905]], dtype=float32)"
            ]
          },
          "metadata": {
            "tags": []
          },
          "execution_count": 137
        }
      ]
    },
    {
      "cell_type": "code",
      "metadata": {
        "id": "XnkPiocqFltN",
        "colab_type": "code",
        "colab": {}
      },
      "source": [
        ""
      ],
      "execution_count": 0,
      "outputs": []
    },
    {
      "cell_type": "markdown",
      "metadata": {
        "id": "yR0WhM3WGExc",
        "colab_type": "text"
      },
      "source": [
        "### Saving the model"
      ]
    },
    {
      "cell_type": "code",
      "metadata": {
        "id": "0s0hUrcPGGlP",
        "colab_type": "code",
        "colab": {}
      },
      "source": [
        "from tensorflow.keras.models import load_model"
      ],
      "execution_count": 0,
      "outputs": []
    },
    {
      "cell_type": "code",
      "metadata": {
        "id": "H0iRytlBGJen",
        "colab_type": "code",
        "colab": {}
      },
      "source": [
        "model.save('my_gem_model.h5')"
      ],
      "execution_count": 0,
      "outputs": []
    },
    {
      "cell_type": "code",
      "metadata": {
        "id": "3zMphUOQGMk-",
        "colab_type": "code",
        "colab": {
          "base_uri": "https://localhost:8080/",
          "height": 156
        },
        "outputId": "b6071683-d61c-4a62-c152-0c36d78d3529"
      },
      "source": [
        "later_model = load_model('my_gem_model.h5')"
      ],
      "execution_count": 140,
      "outputs": [
        {
          "output_type": "stream",
          "text": [
            "WARNING:tensorflow:From /usr/local/lib/python3.6/dist-packages/tensorflow_core/python/ops/init_ops.py:97: calling GlorotUniform.__init__ (from tensorflow.python.ops.init_ops) with dtype is deprecated and will be removed in a future version.\n",
            "Instructions for updating:\n",
            "Call initializer instance with the dtype argument instead of passing it to the constructor\n",
            "WARNING:tensorflow:From /usr/local/lib/python3.6/dist-packages/tensorflow_core/python/ops/init_ops.py:97: calling Zeros.__init__ (from tensorflow.python.ops.init_ops) with dtype is deprecated and will be removed in a future version.\n",
            "Instructions for updating:\n",
            "Call initializer instance with the dtype argument instead of passing it to the constructor\n",
            "WARNING:tensorflow:Sequential models without an `input_shape` passed to the first layer cannot reload their optimizer state. As a result, your model isstarting with a freshly initialized optimizer.\n"
          ],
          "name": "stdout"
        }
      ]
    },
    {
      "cell_type": "code",
      "metadata": {
        "id": "_WkNaYRsGRiH",
        "colab_type": "code",
        "colab": {
          "base_uri": "https://localhost:8080/",
          "height": 34
        },
        "outputId": "b47bedbc-f83d-4484-baf3-7dd05da84bf0"
      },
      "source": [
        "later_model.predict(new_gem)"
      ],
      "execution_count": 141,
      "outputs": [
        {
          "output_type": "execute_result",
          "data": {
            "text/plain": [
              "array([[429.905]], dtype=float32)"
            ]
          },
          "metadata": {
            "tags": []
          },
          "execution_count": 141
        }
      ]
    },
    {
      "cell_type": "code",
      "metadata": {
        "id": "1l2MXDdrGWCf",
        "colab_type": "code",
        "colab": {}
      },
      "source": [
        ""
      ],
      "execution_count": 0,
      "outputs": []
    }
  ]
}